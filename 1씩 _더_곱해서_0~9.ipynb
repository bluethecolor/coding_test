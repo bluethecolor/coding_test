{
 "cells": [
  {
   "cell_type": "code",
   "execution_count": null,
   "metadata": {},
   "outputs": [],
   "source": [
    "T = int(input())\n",
    "for test_case in range(1, T + 1):\n",
    "\n",
    "    num = int(input()) \n",
    "    num = str(num)\n",
    "    num = list(num)\n",
    "    num = list(map(int, num)) \n",
    "\n",
    "    del_list = []\n",
    "\n",
    "    for i in range(10):\n",
    "        if i not in num:\n",
    "            del_list.append(i)\n",
    "\n",
    "    x_count = 1\n",
    "\n",
    "    for j in range(2,10000):\n",
    "        if del_list == []:\n",
    "            print(f'#{test_case} {duple_num}')\n",
    "            break\n",
    "        x_count += 1\n",
    "        num_2 = num.copy()\n",
    "        duple_num = int(''.join(str(x) for x in num_2)) * j\n",
    "        num_3 = list(map(int, str(duple_num)))\n",
    "\n",
    "        for h in num_3:\n",
    "            if h not in del_list:\n",
    "                continue\n",
    "            elif h in del_list:\n",
    "                del_list.remove(h)"
   ]
  },
  {
   "cell_type": "code",
   "execution_count": 16,
   "metadata": {},
   "outputs": [],
   "source": [
    "num = 123\n",
    "num = str(num)\n",
    "num = list(num)\n",
    "num = list(map(int, num)) \n",
    "\n",
    "del_list = []\n",
    "\n",
    "for i in range(10):\n",
    "    if i not in num:\n",
    "        del_list.append(i)\n",
    "\n",
    "x_count = 1\n",
    "\n",
    "for j in range(2,10000):\n",
    "    if del_list == []:\n",
    "        print(x_count)\n",
    "        break\n",
    "    x_count += 1\n",
    "    num_2 = num.copy()\n",
    "    duple_num = int(''.join(str(x) for x in num_2)) * j\n",
    "    num_3 = list(map(int, str(duple_num)))\n",
    "\n",
    "    for h in num_3:\n",
    "        if h not in del_list:\n",
    "            continue\n",
    "        elif h in del_list:\n",
    "            del_list.remove(h)\n",
    "\n",
    "\n",
    "    \n",
    "\n"
   ]
  },
  {
   "cell_type": "code",
   "execution_count": null,
   "metadata": {},
   "outputs": [],
   "source": []
  }
 ],
 "metadata": {
  "kernelspec": {
   "display_name": "base",
   "language": "python",
   "name": "python3"
  },
  "language_info": {
   "codemirror_mode": {
    "name": "ipython",
    "version": 3
   },
   "file_extension": ".py",
   "mimetype": "text/x-python",
   "name": "python",
   "nbconvert_exporter": "python",
   "pygments_lexer": "ipython3",
   "version": "3.9.13"
  },
  "orig_nbformat": 4,
  "vscode": {
   "interpreter": {
    "hash": "30baee32c445b56b5bebd971439750611d62fad669ff493377e475030ea087db"
   }
  }
 },
 "nbformat": 4,
 "nbformat_minor": 2
}
