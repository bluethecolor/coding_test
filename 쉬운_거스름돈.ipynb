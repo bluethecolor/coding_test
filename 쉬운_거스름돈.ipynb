{
 "cells": [
  {
   "cell_type": "code",
   "execution_count": 21,
   "metadata": {},
   "outputs": [
    {
     "name": "stdout",
     "output_type": "stream",
     "text": [
      "#1\n",
      "0 0 0 0 0 3 0 4 \n",
      "#2\n",
      "0 0 0 0 1 1 1 2 \n",
      "#3\n",
      "0 0 0 0 1 1 1 3 \n"
     ]
    }
   ],
   "source": [
    "T = int(input())\n",
    "money_list = [50000, 10000, 5000, 1000, 500, 100, 50, 10]\n",
    "for test_case in range(1, T + 1):\n",
    "    money = int(input())\n",
    "    unit_list =[]\n",
    "    for i in money_list:\n",
    "        if money >= i:\n",
    "            unit_list.append(money//i)\n",
    "            money = money%i\n",
    "        else:\n",
    "            unit_list.append(0)\n",
    "    print(f'#{test_case}')\n",
    "    for i in unit_list:\n",
    "        print(i, end = ' ')\n",
    "    print()"
   ]
  },
  {
   "cell_type": "code",
   "execution_count": 15,
   "metadata": {},
   "outputs": [
    {
     "name": "stdout",
     "output_type": "stream",
     "text": [
      "0 3 0 2 1 3 1 0 "
     ]
    }
   ],
   "source": [
    "money = 32850\n",
    "unit_list =[]\n",
    "money_list = [50000, 10000, 5000, 1000, 500, 100, 50, 10]\n",
    "\n",
    "for i in money_list:\n",
    "    if money >= i:\n",
    "        unit_list.append(money//i)\n",
    "        money = money%i\n",
    "    else:\n",
    "        unit_list.append(0)\n",
    "\n",
    "for i in unit_list:\n",
    "    print(i, end = ' ')\n"
   ]
  },
  {
   "cell_type": "code",
   "execution_count": null,
   "metadata": {},
   "outputs": [],
   "source": []
  }
 ],
 "metadata": {
  "kernelspec": {
   "display_name": "base",
   "language": "python",
   "name": "python3"
  },
  "language_info": {
   "codemirror_mode": {
    "name": "ipython",
    "version": 3
   },
   "file_extension": ".py",
   "mimetype": "text/x-python",
   "name": "python",
   "nbconvert_exporter": "python",
   "pygments_lexer": "ipython3",
   "version": "3.9.13"
  },
  "orig_nbformat": 4,
  "vscode": {
   "interpreter": {
    "hash": "30baee32c445b56b5bebd971439750611d62fad669ff493377e475030ea087db"
   }
  }
 },
 "nbformat": 4,
 "nbformat_minor": 2
}
